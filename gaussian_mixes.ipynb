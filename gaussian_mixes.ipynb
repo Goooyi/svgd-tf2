{
 "cells": [
  {
   "cell_type": "markdown",
   "source": [
    "# SVGD on 2D Gaussian Mixtures\n",
    "In this notebook we will see SVGD sampling from a 2D Gaussian mixture. We will also display an animation that shows the movement of the particles\n",
    "throughout the optimization."
   ],
   "metadata": {}
  },
  {
   "cell_type": "code",
   "execution_count": 1,
   "source": [
    "import matplotlib.pyplot as plt\n",
    "from sklearn.neighbors import KernelDensity\n",
    "import tensorflow as tf\n",
    "import tensorflow_probability as tfp\n",
    "from matplotlib import animation\n",
    "from svgd import SVGD\n",
    "from svgd.kernels import RbfKernel"
   ],
   "outputs": [],
   "metadata": {}
  },
  {
   "cell_type": "markdown",
   "source": [
    "We can create a simple Gaussian Mixture from `tensorflow` components, simply scaling the pdf's by a discrete distribution $c$."
   ],
   "metadata": {}
  },
  {
   "cell_type": "code",
   "execution_count": 2,
   "source": [
    "class GaussianMixture:\n",
    "    def __init__(self, comps):\n",
    "        self.gaussians = [ self.toGaussian(*comp) for comp in comps ]\n",
    "\n",
    "    def toGaussian(self, c, mean, Cov):\n",
    "        scale = tf.linalg.cholesky(Cov)\n",
    "        return (c, tfp.distributions.MultivariateNormalTriL(loc=mean, scale_tril=scale))\n",
    "\n",
    "    def pdf(self, x):\n",
    "        return tf.reduce_sum([ c * gaussian.prob(tf.cast(x, tf.float32)) for c, gaussian in self.gaussians], axis = 0)"
   ],
   "outputs": [],
   "metadata": {}
  },
  {
   "cell_type": "markdown",
   "source": [
    "Now for the animation we use `matplotlib` - pretty standard stuff actually. If you care, unfold the next cell."
   ],
   "metadata": {}
  },
  {
   "cell_type": "code",
   "execution_count": 12,
   "source": [
    "def contourData(fn, xrange, yrange):\n",
    "    x, y = tf.meshgrid(\n",
    "        tf.linspace(*xrange, 200),\n",
    "        tf.linspace(*yrange, 200)\n",
    "    )\n",
    "\n",
    "    grid = tf.concat([tf.expand_dims(x, -1), tf.expand_dims(y, -1)], -1)\n",
    "    return x, y, fn(grid)\n",
    "\n",
    "def particlePlot(svgd, initialParticles, xrange, yrange, saveAnimationTo = None):\n",
    "    data = contourData(svgd.targetDistribution, xrange, yrange)\n",
    "\n",
    "    figure = plt.figure()\n",
    "    plt.axes(xlim = xrange, ylim = yrange)\n",
    "    plt.contourf(*data, 25)\n",
    "\n",
    "    x = tf.Variable(initialParticles)\n",
    "    scatter = plt.scatter(x[:, 0], x[:, 1])\n",
    "\n",
    "    def animate(_, x):\n",
    "        x = svgd.update(x, 5)\n",
    "        scatter.set_offsets(x.numpy())\n",
    "        return scatter,\n",
    "\n",
    "    anim = animation.FuncAnimation(figure, animate, fargs=(x,), frames=100, blit=True)\n",
    "    \n",
    "    if saveAnimationTo is not None:\n",
    "        anim.save(saveAnimationTo)"
   ],
   "outputs": [],
   "metadata": {}
  },
  {
   "cell_type": "markdown",
   "source": [
    "We draw initial particles uniformly to spread them across the space. This helps them converge nicely."
   ],
   "metadata": {}
  },
  {
   "cell_type": "code",
   "execution_count": 16,
   "source": [
    "def sampleInitialParticles(shape, vrange):\n",
    "    return tf.random.uniform(shape, *vrange, dtype=tf.float64)"
   ],
   "outputs": [],
   "metadata": {}
  },
  {
   "cell_type": "markdown",
   "source": [
    "Here we create a Gaussian mixture and save the animation to disk. Omitting the path will show you either a still image or the animation in your notebook (depends on your environment). But of course you can change this mixture to anything really (different covariances, more mixtures, different position etc.).\n",
    "\n",
    "We recommend copying the cell and making adjustments there."
   ],
   "metadata": {}
  },
  {
   "cell_type": "code",
   "execution_count": 20,
   "source": [
    "cov = [[0.9, 0.1],\n",
    "       [0.1, 0.9]]\n",
    "\n",
    "gauss = GaussianMixture([\n",
    "    (0.3, [-4., 0.], cov), \n",
    "    (0.7, [ 1., 0.], cov),\n",
    "    (0.7, [ 4., 4.], cov)])\n",
    "\n",
    "valueRange = (-7, 7)\n",
    "x0 = sampleInitialParticles((200, 2), valueRange)\n",
    "\n",
    "rbf = RbfKernel()\n",
    "svgd = SVGD(rbf, gauss.pdf, 0.1)\n",
    "particlePlot(svgd, x0, valueRange, valueRange, 'media/animation.mp4')"
   ],
   "outputs": [
    {
     "output_type": "display_data",
     "data": {
      "text/plain": [
       "<Figure size 432x288 with 1 Axes>"
      ],
      "image/png": "[encoded data removed]"
     },
     "metadata": {
      "needs_background": "light"
     }
    }
   ],
   "metadata": {}
  }
 ],
 "metadata": {
  "orig_nbformat": 4,
  "language_info": {
   "name": "python",
   "version": "3.8.10",
   "mimetype": "text/x-python",
   "codemirror_mode": {
    "name": "ipython",
    "version": 3
   },
   "pygments_lexer": "ipython3",
   "nbconvert_exporter": "python",
   "file_extension": ".py"
  },
  "kernelspec": {
   "name": "python3",
   "display_name": "Python 3.8.10 64-bit"
  },
  "interpreter": {
   "hash": "916dbcbb3f70747c44a77c7bcd40155683ae19c65e1c03b4aa3499c5328201f1"
  }
 },
 "nbformat": 4,
 "nbformat_minor": 2
}