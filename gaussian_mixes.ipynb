{
 "cells": [
  {
   "cell_type": "code",
   "execution_count": 78,
   "source": [
    "import numpy as np\n",
    "import matplotlib.pyplot as plt\n",
    "from sklearn.neighbors import KernelDensity\n",
    "import tensorflow as tf\n",
    "import tensorflow_probability as tfp\n",
    "from matplotlib import animation"
   ],
   "outputs": [],
   "metadata": {}
  },
  {
   "cell_type": "code",
   "execution_count": 79,
   "source": [
    "class GeneralGaussianMixture:\n",
    "    def __init__(self, comps):\n",
    "        self.gaussians = [ self.toGaussian(*comp) for comp in comps ]\n",
    "\n",
    "    def toGaussian(self, c, mean, Cov):\n",
    "        scale = tf.linalg.cholesky(Cov)\n",
    "        return (c, tfp.distributions.MultivariateNormalTriL(loc=mean, scale_tril=scale))\n",
    "\n",
    "    def pdf(self, x):\n",
    "        return tf.reduce_sum([ c * gaussian.prob(tf.cast(x, tf.float32)) for c, gaussian in self.gaussians], axis = 0)\n",
    "\n",
    "    def dlnprob(self, x):\n",
    "        with tf.GradientTape() as tape:\n",
    "            _ = tf.math.log(self.pdf(x))\n",
    "        return tape.gradient(_, [x])[0]"
   ],
   "outputs": [],
   "metadata": {}
  },
  {
   "cell_type": "code",
   "execution_count": 83,
   "source": [
    "\n",
    "@tf.function\n",
    "def selectKernelWidth(euclideanPwDistances):\n",
    "    pwDistanceMedian = tfp.stats.percentile(\n",
    "        euclideanPwDistances, 50.0, interpolation='midpoint')\n",
    "\n",
    "    n = euclideanPwDistances.shape[0]\n",
    "    return tf.sqrt(0.5 * pwDistanceMedian / tf.convert_to_tensor(np.log(n + 1)))\n",
    "\n",
    "@tf.function\n",
    "def euclideanPairwiseDistance(x):\n",
    "    distance = tf.expand_dims(x, 1) - tf.expand_dims(tf.stop_gradient(x), 0)\n",
    "    return tf.einsum('ijk,kji->ij', distance, tf.transpose(distance))\n",
    "\n",
    "\n",
    "class SVGD:\n",
    "    def __init__(self, x0, lr):\n",
    "        \"\"\"Costly precomputations done here - better know the shape of your problem!\n",
    "        \"\"\"\n",
    "        self.x0 = tf.Variable(x0)\n",
    "        self.opt = tf.keras.optimizers.Adam(lr)\n",
    "\n",
    "    def update(self, dlnprob, niter, x):\n",
    "        for _ in range(niter):\n",
    "            with tf.GradientTape() as tape:\n",
    "                Kxy = self.rbfkernel(x)\n",
    "                loss = tf.reduce_sum(Kxy)\n",
    "\n",
    "            # why minus? see https://github.com/activatedgeek/svgd/issues/1 (right at the end)\n",
    "            kernelGrad = -tape.gradient(loss, [x])[0]\n",
    "\n",
    "            # minus to cancel out the negative descent of Adam\n",
    "            completeGrad = - (Kxy @ dlnprob(x) + kernelGrad) / x.shape[0]\n",
    "            self.opt.apply_gradients([(completeGrad, x)])\n",
    "\n",
    "        return x\n",
    "\n",
    "    @tf.function\n",
    "    def rbfkernel(self, x):\n",
    "        normedDist = euclideanPairwiseDistance(x)\n",
    "        h = tf.stop_gradient(selectKernelWidth(normedDist))\n",
    "        Kxy = tf.exp(-normedDist / h**2)\n",
    "        return Kxy\n"
   ],
   "outputs": [],
   "metadata": {}
  },
  {
   "cell_type": "code",
   "execution_count": 84,
   "source": [
    "mu = [-5., 0.]\n",
    "cov = [[ 0.5,  0.],\n",
    "       [ 0.,  0.5]]\n",
    "\n",
    "gauss = GeneralGaussianMixture([(0.5, mu, cov), (0.5, [5., 0.], cov)])\n",
    "\n",
    "x0 = 7 * (2 * tf.random.uniform((100, 2), dtype=tf.float64) - 1)"
   ],
   "outputs": [],
   "metadata": {}
  },
  {
   "cell_type": "code",
   "execution_count": 85,
   "source": [
    "xv, yv = tf.meshgrid(\n",
    "    tf.linspace(-7, 7, 200),\n",
    "    tf.linspace(-7, 7, 200)\n",
    ")\n",
    "pos_xy = tf.concat([tf.expand_dims(xv, -1), tf.expand_dims(yv, -1)], -1)\n",
    "pos_xy = tf.cast(pos_xy, dtype=tf.float32)\n",
    "\n",
    "z = tf.math.exp(tf.math.log(gauss.pdf(pos_xy)))\n",
    "\n",
    "fig = plt.figure()\n",
    "ax = plt.axes(xlim=(-7, 7), ylim=(-7, 7))\n",
    "\n",
    "plt.contourf(xv, yv, z, 25)\n",
    "\n",
    "svgd = SVGD(x0, 0.1)\n",
    "x = svgd.x0\n",
    "\n",
    "scatter = plt.scatter(x[:, 0], x[:, 1])\n",
    "\n",
    "def animate(_, x): \n",
    "    x = svgd.update(gauss.dlnprob, 1, x)\n",
    "    scatter.set_offsets(x.numpy())\n",
    "    return x\n",
    "\n",
    "anim = animation.FuncAnimation(fig, animate, fargs=(x,), frames=100)\n",
    "\n",
    "anim.save('media/animation.mp4')\n"
   ],
   "outputs": [
    {
     "output_type": "display_data",
     "data": {
      "text/plain": [
       "<Figure size 432x288 with 1 Axes>"
      ],
      "image/png": "[encoded data removed]"
     },
     "metadata": {
      "needs_background": "light"
     }
    }
   ],
   "metadata": {}
  },
  {
   "cell_type": "code",
   "execution_count": null,
   "source": [],
   "outputs": [],
   "metadata": {}
  }
 ],
 "metadata": {
  "orig_nbformat": 4,
  "language_info": {
   "name": "python",
   "version": "3.8.10",
   "mimetype": "text/x-python",
   "codemirror_mode": {
    "name": "ipython",
    "version": 3
   },
   "pygments_lexer": "ipython3",
   "nbconvert_exporter": "python",
   "file_extension": ".py"
  },
  "kernelspec": {
   "name": "python3",
   "display_name": "Python 3.8.10 64-bit"
  },
  "interpreter": {
   "hash": "916dbcbb3f70747c44a77c7bcd40155683ae19c65e1c03b4aa3499c5328201f1"
  }
 },
 "nbformat": 4,
 "nbformat_minor": 2
}